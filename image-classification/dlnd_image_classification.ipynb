{
 "cells": [
  {
   "cell_type": "markdown",
   "metadata": {
    "collapsed": true
   },
   "source": [
    "# Image Classification\n",
    "In this project, you'll classify images from the [CIFAR-10 dataset](https://www.cs.toronto.edu/~kriz/cifar.html).  The dataset consists of airplanes, dogs, cats, and other objects. You'll preprocess the images, then train a convolutional neural network on all the samples. The images need to be normalized and the labels need to be one-hot encoded.  You'll get to apply what you learned and build a convolutional, max pooling, dropout, and fully connected layers.  At the end, you'll get to see your neural network's predictions on the sample images.\n",
    "## Get the Data\n",
    "Run the following cell to download the [CIFAR-10 dataset for python](https://www.cs.toronto.edu/~kriz/cifar-10-python.tar.gz)."
   ]
  },
  {
   "cell_type": "code",
   "execution_count": 2,
   "metadata": {
    "collapsed": false
   },
   "outputs": [
    {
     "name": "stderr",
     "output_type": "stream",
     "text": [
      "CIFAR-10 Dataset: 171MB [14:04, 202KB/s]                                                                               \n"
     ]
    },
    {
     "name": "stdout",
     "output_type": "stream",
     "text": [
      "All files found!\n"
     ]
    }
   ],
   "source": [
    "\"\"\"\n",
    "DON'T MODIFY ANYTHING IN THIS CELL THAT IS BELOW THIS LINE\n",
    "\"\"\"\n",
    "from urllib.request import urlretrieve\n",
    "from os.path import isfile, isdir\n",
    "from tqdm import tqdm\n",
    "import problem_unittests as tests\n",
    "import tarfile\n",
    "\n",
    "cifar10_dataset_folder_path = 'cifar-10-batches-py'\n",
    "\n",
    "class DLProgress(tqdm):\n",
    "    last_block = 0\n",
    "\n",
    "    def hook(self, block_num=1, block_size=1, total_size=None):\n",
    "        self.total = total_size\n",
    "        self.update((block_num - self.last_block) * block_size)\n",
    "        self.last_block = block_num\n",
    "\n",
    "if not isfile('cifar-10-python.tar.gz'):\n",
    "    with DLProgress(unit='B', unit_scale=True, miniters=1, desc='CIFAR-10 Dataset') as pbar:\n",
    "        urlretrieve(\n",
    "            'https://www.cs.toronto.edu/~kriz/cifar-10-python.tar.gz',\n",
    "            'cifar-10-python.tar.gz',\n",
    "            pbar.hook)\n",
    "\n",
    "if not isdir(cifar10_dataset_folder_path):\n",
    "    with tarfile.open('cifar-10-python.tar.gz') as tar:\n",
    "        tar.extractall()\n",
    "        tar.close()\n",
    "\n",
    "\n",
    "tests.test_folder_path(cifar10_dataset_folder_path)"
   ]
  },
  {
   "cell_type": "markdown",
   "metadata": {},
   "source": [
    "## Explore the Data\n",
    "The dataset is broken into batches to prevent your machine from running out of memory.  The CIFAR-10 dataset consists of 5 batches, named `data_batch_1`, `data_batch_2`, etc.. Each batch contains the labels and images that are one of the following:\n",
    "* airplane\n",
    "* automobile\n",
    "* bird\n",
    "* cat\n",
    "* deer\n",
    "* dog\n",
    "* frog\n",
    "* horse\n",
    "* ship\n",
    "* truck\n",
    "\n",
    "Understanding a dataset is part of making predictions on the data.  Play around with the code cell below by changing the `batch_id` and `sample_id`. The `batch_id` is the id for a batch (1-5). The `sample_id` is the id for a image and label pair in the batch.\n",
    "\n",
    "Ask yourself \"What are all possible labels?\", \"What is the range of values for the image data?\", \"Are the labels in order or random?\".  Answers to questions like these will help you preprocess the data and end up with better predictions."
   ]
  },
  {
   "cell_type": "code",
   "execution_count": 3,
   "metadata": {
    "collapsed": false
   },
   "outputs": [
    {
     "name": "stdout",
     "output_type": "stream",
     "text": [
      "\n",
      "Stats of batch 1:\n",
      "Samples: 10000\n",
      "Label Counts: {0: 1005, 1: 974, 2: 1032, 3: 1016, 4: 999, 5: 937, 6: 1030, 7: 1001, 8: 1025, 9: 981}\n",
      "First 20 Labels: [6, 9, 9, 4, 1, 1, 2, 7, 8, 3, 4, 7, 7, 2, 9, 9, 9, 3, 2, 6]\n",
      "\n",
      "Example of Image 5:\n",
      "Image - Min Value: 0 Max Value: 252\n",
      "Image - Shape: (32, 32, 3)\n",
      "Label - Label Id: 1 Name: automobile\n"
     ]
    },
    {
     "data": {
      "image/png": "[encoded data removed]",
      "text/plain": [
       "<matplotlib.figure.Figure at 0x17f150e7cc0>"
      ]
     },
     "metadata": {
      "image/png": {
       "height": 250,
       "width": 253
      }
     },
     "output_type": "display_data"
    }
   ],
   "source": [
    "%matplotlib inline\n",
    "%config InlineBackend.figure_format = 'retina'\n",
    "\n",
    "import helper\n",
    "import numpy as np\n",
    "\n",
    "# Explore the dataset\n",
    "batch_id = 1\n",
    "sample_id = 5\n",
    "helper.display_stats(cifar10_dataset_folder_path, batch_id, sample_id)"
   ]
  },
  {
   "cell_type": "markdown",
   "metadata": {},
   "source": [
    "## Implement Preprocess Functions\n",
    "### Normalize\n",
    "In the cell below, implement the `normalize` function to take in image data, `x`, and return it as a normalized Numpy array. The values should be in the range of 0 to 1, inclusive.  The return object should be the same shape as `x`."
   ]
  },
  {
   "cell_type": "code",
   "execution_count": 4,
   "metadata": {
    "collapsed": false
   },
   "outputs": [
    {
     "name": "stdout",
     "output_type": "stream",
     "text": [
      "Tests Passed\n"
     ]
    }
   ],
   "source": [
    "def normalize(x):\n",
    "    \"\"\"\n",
    "    Normalize a list of sample image data in the range of 0 to 1\n",
    "    : x: List of image data.  The image shape is (32, 32, 3)\n",
    "    : return: Numpy array of normalize data\n",
    "    \"\"\"\n",
    "    # TODO: Implement Function\n",
    "    _max = np.max(x)\n",
    "    _min = np.min(x)\n",
    "    return (x- _min) / (_max - _min)\n",
    "\n",
    "\n",
    "\"\"\"\n",
    "DON'T MODIFY ANYTHING IN THIS CELL THAT IS BELOW THIS LINE\n",
    "\"\"\"\n",
    "tests.test_normalize(normalize)"
   ]
  },
  {
   "cell_type": "markdown",
   "metadata": {},
   "source": [
    "### One-hot encode\n",
    "Just like the previous code cell, you'll be implementing a function for preprocessing.  This time, you'll implement the `one_hot_encode` function. The input, `x`, are a list of labels.  Implement the function to return the list of labels as One-Hot encoded Numpy array.  The possible values for labels are 0 to 9. The one-hot encoding function should return the same encoding for each value between each call to `one_hot_encode`.  Make sure to save the map of encodings outside the function.\n",
    "\n",
    "Hint: Don't reinvent the wheel."
   ]
  },
  {
   "cell_type": "code",
   "execution_count": 5,
   "metadata": {
    "collapsed": false
   },
   "outputs": [
    {
     "name": "stdout",
     "output_type": "stream",
     "text": [
      "Tests Passed\n"
     ]
    }
   ],
   "source": [
    "def one_hot_encode(x):\n",
    "    \"\"\"\n",
    "    One hot encode a list of sample labels. Return a one-hot encoded vector for each label.\n",
    "    : x: List of sample Labels\n",
    "    : return: Numpy array of one-hot encoded labels\n",
    "    \"\"\"\n",
    "    # TODO: Implement Function\n",
    "    return np.eye(10)[x]\n",
    "\n",
    "\n",
    "\"\"\"\n",
    "DON'T MODIFY ANYTHING IN THIS CELL THAT IS BELOW THIS LINE\n",
    "\"\"\"\n",
    "tests.test_one_hot_encode(one_hot_encode)"
   ]
  },
  {
   "cell_type": "markdown",
   "metadata": {},
   "source": [
    "### Randomize Data\n",
    "As you saw from exploring the data above, the order of the samples are randomized.  It doesn't hurt to randomize it again, but you don't need to for this dataset."
   ]
  },
  {
   "cell_type": "markdown",
   "metadata": {},
   "source": [
    "## Preprocess all the data and save it\n",
    "Running the code cell below will preprocess all the CIFAR-10 data and save it to file. The code below also uses 10% of the training data for validation."
   ]
  },
  {
   "cell_type": "code",
   "execution_count": 6,
   "metadata": {
    "collapsed": false
   },
   "outputs": [],
   "source": [
    "\"\"\"\n",
    "DON'T MODIFY ANYTHING IN THIS CELL\n",
    "\"\"\"\n",
    "# Preprocess Training, Validation, and Testing Data\n",
    "helper.preprocess_and_save_data(cifar10_dataset_folder_path, normalize, one_hot_encode)"
   ]
  },
  {
   "cell_type": "markdown",
   "metadata": {},
   "source": [
    "# Check Point\n",
    "This is your first checkpoint.  If you ever decide to come back to this notebook or have to restart the notebook, you can start from here.  The preprocessed data has been saved to disk."
   ]
  },
  {
   "cell_type": "code",
   "execution_count": 7,
   "metadata": {
    "collapsed": true
   },
   "outputs": [],
   "source": [
    "\"\"\"\n",
    "DON'T MODIFY ANYTHING IN THIS CELL\n",
    "\"\"\"\n",
    "import pickle\n",
    "import problem_unittests as tests\n",
    "import helper\n",
    "\n",
    "# Load the Preprocessed Validation data\n",
    "valid_features, valid_labels = pickle.load(open('preprocess_validation.p', mode='rb'))"
   ]
  },
  {
   "cell_type": "markdown",
   "metadata": {},
   "source": [
    "## Build the network\n",
    "For the neural network, you'll build each layer into a function.  Most of the code you've seen has been outside of functions. To test your code more thoroughly, we require that you put each layer in a function.  This allows us to give you better feedback and test for simple mistakes using our unittests before you submit your project.\n",
    "\n",
    ">**Note:** If you're finding it hard to dedicate enough time for this course each week, we've provided a small shortcut to this part of the project. In the next couple of problems, you'll have the option to use classes from the [TensorFlow Layers](https://www.tensorflow.org/api_docs/python/tf/layers) or [TensorFlow Layers (contrib)](https://www.tensorflow.org/api_guides/python/contrib.layers) packages to build each layer, except the layers you build in the \"Convolutional and Max Pooling Layer\" section.  TF Layers is similar to Keras's and TFLearn's abstraction to layers, so it's easy to pickup.\n",
    "\n",
    ">However, if you would like to get the most out of this course, try to solve all the problems _without_ using anything from the TF Layers packages. You **can** still use classes from other packages that happen to have the same name as ones you find in TF Layers! For example, instead of using the TF Layers version of the `conv2d` class, [tf.layers.conv2d](https://www.tensorflow.org/api_docs/python/tf/layers/conv2d), you would want to use the TF Neural Network version of `conv2d`, [tf.nn.conv2d](https://www.tensorflow.org/api_docs/python/tf/nn/conv2d). \n",
    "\n",
    "Let's begin!\n",
    "\n",
    "### Input\n",
    "The neural network needs to read the image data, one-hot encoded labels, and dropout keep probability. Implement the following functions\n",
    "* Implement `neural_net_image_input`\n",
    " * Return a [TF Placeholder](https://www.tensorflow.org/api_docs/python/tf/placeholder)\n",
    " * Set the shape using `image_shape` with batch size set to `None`.\n",
    " * Name the TensorFlow placeholder \"x\" using the TensorFlow `name` parameter in the [TF Placeholder](https://www.tensorflow.org/api_docs/python/tf/placeholder).\n",
    "* Implement `neural_net_label_input`\n",
    " * Return a [TF Placeholder](https://www.tensorflow.org/api_docs/python/tf/placeholder)\n",
    " * Set the shape using `n_classes` with batch size set to `None`.\n",
    " * Name the TensorFlow placeholder \"y\" using the TensorFlow `name` parameter in the [TF Placeholder](https://www.tensorflow.org/api_docs/python/tf/placeholder).\n",
    "* Implement `neural_net_keep_prob_input`\n",
    " * Return a [TF Placeholder](https://www.tensorflow.org/api_docs/python/tf/placeholder) for dropout keep probability.\n",
    " * Name the TensorFlow placeholder \"keep_prob\" using the TensorFlow `name` parameter in the [TF Placeholder](https://www.tensorflow.org/api_docs/python/tf/placeholder).\n",
    "\n",
    "These names will be used at the end of the project to load your saved model.\n",
    "\n",
    "Note: `None` for shapes in TensorFlow allow for a dynamic size."
   ]
  },
  {
   "cell_type": "code",
   "execution_count": 8,
   "metadata": {
    "collapsed": false
   },
   "outputs": [
    {
     "name": "stdout",
     "output_type": "stream",
     "text": [
      "Image Input Tests Passed.\n",
      "Label Input Tests Passed.\n",
      "Keep Prob Tests Passed.\n"
     ]
    }
   ],
   "source": [
    "import tensorflow as tf\n",
    "\n",
    "def neural_net_image_input(image_shape):\n",
    "    \"\"\"\n",
    "    Return a Tensor for a bach of image input\n",
    "    : image_shape: Shape of the images\n",
    "    : return: Tensor for image input.\n",
    "    \"\"\"\n",
    "    # TODO: Implement Function\n",
    "    return tf.placeholder(tf.float32, [None, image_shape[0], image_shape[1], image_shape[2]], name='x')\n",
    "\n",
    "\n",
    "def neural_net_label_input(n_classes):\n",
    "    \"\"\"\n",
    "    Return a Tensor for a batch of label input\n",
    "    : n_classes: Number of classes\n",
    "    : return: Tensor for label input.\n",
    "    \"\"\"\n",
    "    # TODO: Implement Function\n",
    "    return tf.placeholder(tf.float32, [None, n_classes], name='y')\n",
    "\n",
    "\n",
    "def neural_net_keep_prob_input():\n",
    "    \"\"\"\n",
    "    Return a Tensor for keep probability\n",
    "    : return: Tensor for keep probability.\n",
    "    \"\"\"\n",
    "    # TODO: Implement Function\n",
    "    return tf.placeholder(tf.float32, name='keep_prob')\n",
    "\n",
    "\n",
    "\"\"\"\n",
    "DON'T MODIFY ANYTHING IN THIS CELL THAT IS BELOW THIS LINE\n",
    "\"\"\"\n",
    "tf.reset_default_graph()\n",
    "tests.test_nn_image_inputs(neural_net_image_input)\n",
    "tests.test_nn_label_inputs(neural_net_label_input)\n",
    "tests.test_nn_keep_prob_inputs(neural_net_keep_prob_input)"
   ]
  },
  {
   "cell_type": "markdown",
   "metadata": {},
   "source": [
    "### Convolution and Max Pooling Layer\n",
    "Convolution layers have a lot of success with images. For this code cell, you should implement the function `conv2d_maxpool` to apply convolution then max pooling:\n",
    "* Create the weight and bias using `conv_ksize`, `conv_num_outputs` and the shape of `x_tensor`.\n",
    "* Apply a convolution to `x_tensor` using weight and `conv_strides`.\n",
    " * We recommend you use same padding, but you're welcome to use any padding.\n",
    "* Add bias\n",
    "* Add a nonlinear activation to the convolution.\n",
    "* Apply Max Pooling using `pool_ksize` and `pool_strides`.\n",
    " * We recommend you use same padding, but you're welcome to use any padding.\n",
    "\n",
    "**Note:** You **can't** use [TensorFlow Layers](https://www.tensorflow.org/api_docs/python/tf/layers) or [TensorFlow Layers (contrib)](https://www.tensorflow.org/api_guides/python/contrib.layers) for **this** layer, but you can still use TensorFlow's [Neural Network](https://www.tensorflow.org/api_docs/python/tf/nn) package. You may still use the shortcut option for all the **other** layers."
   ]
  },
  {
   "cell_type": "code",
   "execution_count": 16,
   "metadata": {
    "collapsed": false
   },
   "outputs": [
    {
     "name": "stdout",
     "output_type": "stream",
     "text": [
      "Tests Passed\n"
     ]
    }
   ],
   "source": [
    "def conv2d_maxpool(x_tensor, conv_num_outputs, conv_ksize, conv_strides, pool_ksize, pool_strides):\n",
    "    \"\"\"\n",
    "    Apply convolution then max pooling to x_tensor\n",
    "    :param x_tensor: TensorFlow Tensor\n",
    "    :param conv_num_outputs: Number of outputs for the convolutional layer\n",
    "    :param conv_ksize: kernal size 2-D Tuple for the convolutional layer\n",
    "    :param conv_strides: Stride 2-D Tuple for convolution\n",
    "    :param pool_ksize: kernal size 2-D Tuple for pool\n",
    "    :param pool_strides: Stride 2-D Tuple for pool\n",
    "    : return: A tensor that represents convolution and max pooling of x_tensor\n",
    "    \"\"\"\n",
    "    # TODO: Implement Function\n",
    "    in_depth = int(x_tensor.get_shape()[3])\n",
    "    out_depth = conv_num_outputs\n",
    "    w_shape = [*conv_ksize, in_depth, out_depth]\n",
    "    w = tf.Variable(tf.random_normal(w_shape, stddev=0.1))\n",
    "    b = tf.Variable(tf.zeros(out_depth))\n",
    "    \n",
    "    conv_strides = [1, *conv_strides, 1]\n",
    "    x = tf.nn.conv2d(x_tensor, w, strides=conv_strides, padding='SAME')\n",
    "    \n",
    "    x = tf.nn.bias_add(x, b)\n",
    "    x = tf.nn.relu(x)\n",
    "    \n",
    "    pool_ksize = [1, *pool_ksize, 1]\n",
    "    pool_strides = [1, *pool_strides, 1]\n",
    "    return tf.nn.max_pool(x, pool_ksize, pool_strides, padding='SAME') \n",
    "\n",
    "\n",
    "\"\"\"\n",
    "DON'T MODIFY ANYTHING IN THIS CELL THAT IS BELOW THIS LINE\n",
    "\"\"\"\n",
    "tests.test_con_pool(conv2d_maxpool)"
   ]
  },
  {
   "cell_type": "markdown",
   "metadata": {},
   "source": [
    "### Flatten Layer\n",
    "Implement the `flatten` function to change the dimension of `x_tensor` from a 4-D tensor to a 2-D tensor.  The output should be the shape (*Batch Size*, *Flattened Image Size*). Shortcut option: you can use classes from the [TensorFlow Layers](https://www.tensorflow.org/api_docs/python/tf/layers) or [TensorFlow Layers (contrib)](https://www.tensorflow.org/api_guides/python/contrib.layers) packages for this layer. For more of a challenge, only use other TensorFlow packages."
   ]
  },
  {
   "cell_type": "code",
   "execution_count": 17,
   "metadata": {
    "collapsed": false
   },
   "outputs": [
    {
     "name": "stdout",
     "output_type": "stream",
     "text": [
      "Tests Passed\n"
     ]
    }
   ],
   "source": [
    "def flatten(x_tensor):\n",
    "    \"\"\"\n",
    "    Flatten x_tensor to (Batch Size, Flattened Image Size)\n",
    "    : x_tensor: A tensor of size (Batch Size, ...), where ... are the image dimensions.\n",
    "    : return: A tensor of size (Batch Size, Flattened Image Size).\n",
    "    \"\"\"\n",
    "    # TODO: Implement Function\n",
    "    batch_size, *img_size = x_tensor.get_shape().as_list()\n",
    "    img_size = img_size[0] * img_size[1] * img_size[2]\n",
    "    return tf.reshape(x_tensor, [-1, img_size])\n",
    "\n",
    "\"\"\"\n",
    "DON'T MODIFY ANYTHING IN THIS CELL THAT IS BELOW THIS LINE\n",
    "\"\"\"\n",
    "tests.test_flatten(flatten)"
   ]
  },
  {
   "cell_type": "markdown",
   "metadata": {},
   "source": [
    "### Fully-Connected Layer\n",
    "Implement the `fully_conn` function to apply a fully connected layer to `x_tensor` with the shape (*Batch Size*, *num_outputs*). Shortcut option: you can use classes from the [TensorFlow Layers](https://www.tensorflow.org/api_docs/python/tf/layers) or [TensorFlow Layers (contrib)](https://www.tensorflow.org/api_guides/python/contrib.layers) packages for this layer. For more of a challenge, only use other TensorFlow packages."
   ]
  },
  {
   "cell_type": "code",
   "execution_count": 21,
   "metadata": {
    "collapsed": false
   },
   "outputs": [
    {
     "name": "stdout",
     "output_type": "stream",
     "text": [
      "Tests Passed\n"
     ]
    }
   ],
   "source": [
    "def fully_conn(x_tensor, num_outputs):\n",
    "    \"\"\"\n",
    "    Apply a fully connected layer to x_tensor using weight and bias\n",
    "    : x_tensor: A 2-D tensor where the first dimension is batch size.\n",
    "    : num_outputs: The number of output that the new tensor should be.\n",
    "    : return: A 2-D tensor where the second dimension is num_outputs.\n",
    "    \"\"\"\n",
    "    # TODO: Implement Function\n",
    "    w_shape = (int(x_tensor.get_shape().as_list()[1]), num_outputs)\n",
    "    w = tf.Variable(tf.random_normal(w_shape, stddev=0.1))\n",
    "    b = tf.Variable(tf.zeros(num_outputs))\n",
    "    x = tf.add(tf.matmul(x_tensor, w), b)\n",
    "    return tf.nn.relu(x)\n",
    "\n",
    "\"\"\"\n",
    "DON'T MODIFY ANYTHING IN THIS CELL THAT IS BELOW THIS LINE\n",
    "\"\"\"\n",
    "tests.test_fully_conn(fully_conn)"
   ]
  },
  {
   "cell_type": "markdown",
   "metadata": {},
   "source": [
    "### Output Layer\n",
    "Implement the `output` function to apply a fully connected layer to `x_tensor` with the shape (*Batch Size*, *num_outputs*). Shortcut option: you can use classes from the [TensorFlow Layers](https://www.tensorflow.org/api_docs/python/tf/layers) or [TensorFlow Layers (contrib)](https://www.tensorflow.org/api_guides/python/contrib.layers) packages for this layer. For more of a challenge, only use other TensorFlow packages.\n",
    "\n",
    "**Note:** Activation, softmax, or cross entropy should **not** be applied to this."
   ]
  },
  {
   "cell_type": "code",
   "execution_count": 22,
   "metadata": {
    "collapsed": false
   },
   "outputs": [
    {
     "name": "stdout",
     "output_type": "stream",
     "text": [
      "Tests Passed\n"
     ]
    }
   ],
   "source": [
    "def output(x_tensor, num_outputs):\n",
    "    \"\"\"\n",
    "    Apply a output layer to x_tensor using weight and bias\n",
    "    : x_tensor: A 2-D tensor where the first dimension is batch size.\n",
    "    : num_outputs: The number of output that the new tensor should be.\n",
    "    : return: A 2-D tensor where the second dimension is num_outputs.\n",
    "    \"\"\"\n",
    "    # TODO: Implement Function\n",
    "    w_shape = [int(x_tensor.get_shape().as_list()[1]), num_outputs]\n",
    "    w = tf.Variable(tf.random_normal(w_shape, stddev=0.1))\n",
    "    b = tf.Variable(tf.zeros(num_outputs))\n",
    "    return tf.add(tf.matmul(x_tensor, w), b)\n",
    "\n",
    "\"\"\"\n",
    "DON'T MODIFY ANYTHING IN THIS CELL THAT IS BELOW THIS LINE\n",
    "\"\"\"\n",
    "tests.test_output(output)"
   ]
  },
  {
   "cell_type": "markdown",
   "metadata": {},
   "source": [
    "### Create Convolutional Model\n",
    "Implement the function `conv_net` to create a convolutional neural network model. The function takes in a batch of images, `x`, and outputs logits.  Use the layers you created above to create this model:\n",
    "\n",
    "* Apply 1, 2, or 3 Convolution and Max Pool layers\n",
    "* Apply a Flatten Layer\n",
    "* Apply 1, 2, or 3 Fully Connected Layers\n",
    "* Apply an Output Layer\n",
    "* Return the output\n",
    "* Apply [TensorFlow's Dropout](https://www.tensorflow.org/api_docs/python/tf/nn/dropout) to one or more layers in the model using `keep_prob`. "
   ]
  },
  {
   "cell_type": "code",
   "execution_count": 23,
   "metadata": {
    "collapsed": false
   },
   "outputs": [
    {
     "name": "stdout",
     "output_type": "stream",
     "text": [
      "Neural Network Built!\n"
     ]
    }
   ],
   "source": [
    "def conv_net(x, keep_prob):\n",
    "    \"\"\"\n",
    "    Create a convolutional neural network model\n",
    "    : x: Placeholder tensor that holds image data.\n",
    "    : keep_prob: Placeholder tensor that hold dropout keep probability.\n",
    "    : return: Tensor that represents logits\n",
    "    \"\"\"\n",
    "    # TODO: Apply 1, 2, or 3 Convolution and Max Pool layers\n",
    "    #    Play around with different number of outputs, kernel size and stride\n",
    "    # Function Definition from Above:\n",
    "    #    conv2d_maxpool(x_tensor, conv_num_outputs, conv_ksize, conv_strides, pool_ksize, pool_strides)\n",
    "    x = conv2d_maxpool(x, 32, (3, 3), (1, 1), (2, 2), (2, 2))\n",
    "    x = conv2d_maxpool(x, 32, (3, 3), (2, 2), (2, 2), (2, 2))\n",
    "    x = conv2d_maxpool(x, 64, (3, 3), (1, 1), (2, 2), (2, 2))\n",
    "    \n",
    "\n",
    "    # TODO: Apply a Flatten Layer\n",
    "    # Function Definition from Above:\n",
    "    #   flatten(x_tensor)\n",
    "    x = flatten(x)\n",
    "\n",
    "    # TODO: Apply 1, 2, or 3 Fully Connected Layers\n",
    "    #    Play around with different number of outputs\n",
    "    # Function Definition from Above:\n",
    "    #   fully_conn(x_tensor, num_outputs)\n",
    "    x = fully_conn(x, 512)\n",
    "    x = tf.nn.dropout(x, keep_prob)\n",
    "    x = fully_conn(x, 128)\n",
    "    x = tf.nn.dropout(x, keep_prob)    \n",
    "    \n",
    "    # TODO: Apply an Output Layer\n",
    "    #    Set this to the number of classes\n",
    "    # Function Definition from Above:\n",
    "    #   output(x_tensor, num_outputs)\n",
    "    out = output(x, 10)\n",
    "    \n",
    "    # TODO: return output\n",
    "    return out\n",
    "\n",
    "\n",
    "\"\"\"\n",
    "DON'T MODIFY ANYTHING IN THIS CELL THAT IS BELOW THIS LINE\n",
    "\"\"\"\n",
    "\n",
    "##############################\n",
    "## Build the Neural Network ##\n",
    "##############################\n",
    "\n",
    "# Remove previous weights, bias, inputs, etc..\n",
    "tf.reset_default_graph()\n",
    "\n",
    "# Inputs\n",
    "x = neural_net_image_input((32, 32, 3))\n",
    "y = neural_net_label_input(10)\n",
    "keep_prob = neural_net_keep_prob_input()\n",
    "\n",
    "# Model\n",
    "logits = conv_net(x, keep_prob)\n",
    "\n",
    "# Name logits Tensor, so that is can be loaded from disk after training\n",
    "logits = tf.identity(logits, name='logits')\n",
    "\n",
    "# Loss and Optimizer\n",
    "cost = tf.reduce_mean(tf.nn.softmax_cross_entropy_with_logits(logits=logits, labels=y))\n",
    "optimizer = tf.train.AdamOptimizer().minimize(cost)\n",
    "\n",
    "# Accuracy\n",
    "correct_pred = tf.equal(tf.argmax(logits, 1), tf.argmax(y, 1))\n",
    "accuracy = tf.reduce_mean(tf.cast(correct_pred, tf.float32), name='accuracy')\n",
    "\n",
    "tests.test_conv_net(conv_net)"
   ]
  },
  {
   "cell_type": "markdown",
   "metadata": {},
   "source": [
    "## Train the Neural Network\n",
    "### Single Optimization\n",
    "Implement the function `train_neural_network` to do a single optimization.  The optimization should use `optimizer` to optimize in `session` with a `feed_dict` of the following:\n",
    "* `x` for image input\n",
    "* `y` for labels\n",
    "* `keep_prob` for keep probability for dropout\n",
    "\n",
    "This function will be called for each batch, so `tf.global_variables_initializer()` has already been called.\n",
    "\n",
    "Note: Nothing needs to be returned. This function is only optimizing the neural network."
   ]
  },
  {
   "cell_type": "code",
   "execution_count": 24,
   "metadata": {
    "collapsed": false
   },
   "outputs": [
    {
     "name": "stdout",
     "output_type": "stream",
     "text": [
      "Tests Passed\n"
     ]
    }
   ],
   "source": [
    "def train_neural_network(session, optimizer, keep_probability, feature_batch, label_batch):\n",
    "    \"\"\"\n",
    "    Optimize the session on a batch of images and labels\n",
    "    : session: Current TensorFlow session\n",
    "    : optimizer: TensorFlow optimizer function\n",
    "    : keep_probability: keep probability\n",
    "    : feature_batch: Batch of Numpy image data\n",
    "    : label_batch: Batch of Numpy label data\n",
    "    \"\"\"\n",
    "    # TODO: Implement Function\n",
    "    session.run(optimizer, feed_dict={\n",
    "        x: feature_batch,\n",
    "        y: label_batch,\n",
    "        keep_prob: keep_probability\n",
    "    })\n",
    "\n",
    "\n",
    "\"\"\"\n",
    "DON'T MODIFY ANYTHING IN THIS CELL THAT IS BELOW THIS LINE\n",
    "\"\"\"\n",
    "tests.test_train_nn(train_neural_network)"
   ]
  },
  {
   "cell_type": "markdown",
   "metadata": {},
   "source": [
    "### Show Stats\n",
    "Implement the function `print_stats` to print loss and validation accuracy.  Use the global variables `valid_features` and `valid_labels` to calculate validation accuracy.  Use a keep probability of `1.0` to calculate the loss and validation accuracy."
   ]
  },
  {
   "cell_type": "code",
   "execution_count": 25,
   "metadata": {
    "collapsed": false
   },
   "outputs": [],
   "source": [
    "def print_stats(session, feature_batch, label_batch, cost, accuracy):\n",
    "    \"\"\"\n",
    "    Print information about loss and validation accuracy\n",
    "    : session: Current TensorFlow session\n",
    "    : feature_batch: Batch of Numpy image data\n",
    "    : label_batch: Batch of Numpy label data\n",
    "    : cost: TensorFlow cost function\n",
    "    : accuracy: TensorFlow accuracy function\n",
    "    \"\"\"\n",
    "    # TODO: Implement Function\n",
    "    loss = session.run(cost, feed_dict={\n",
    "        x: feature_batch,\n",
    "        y: label_batch,\n",
    "        keep_prob: 1.\n",
    "    })\n",
    "    \n",
    "    valid_accuracy = session.run(accuracy, feed_dict={\n",
    "        x: valid_features,\n",
    "        y: valid_labels,\n",
    "        keep_prob: 1.\n",
    "    })\n",
    "\n",
    "    print('Loss: {:>10.4f} Validation Accuracy: {:.6f}'.format(loss, valid_accuracy))"
   ]
  },
  {
   "cell_type": "markdown",
   "metadata": {},
   "source": [
    "### Hyperparameters\n",
    "Tune the following parameters:\n",
    "* Set `epochs` to the number of iterations until the network stops learning or start overfitting\n",
    "* Set `batch_size` to the highest number that your machine has memory for.  Most people set them to common sizes of memory:\n",
    " * 64\n",
    " * 128\n",
    " * 256\n",
    " * ...\n",
    "* Set `keep_probability` to the probability of keeping a node using dropout"
   ]
  },
  {
   "cell_type": "code",
   "execution_count": 26,
   "metadata": {
    "collapsed": true
   },
   "outputs": [],
   "source": [
    "# TODO: Tune Parameters\n",
    "epochs = 50\n",
    "batch_size = 256\n",
    "keep_probability = .5"
   ]
  },
  {
   "cell_type": "markdown",
   "metadata": {},
   "source": [
    "### Train on a Single CIFAR-10 Batch\n",
    "Instead of training the neural network on all the CIFAR-10 batches of data, let's use a single batch. This should save time while you iterate on the model to get a better accuracy.  Once the final validation accuracy is 50% or greater, run the model on all the data in the next section."
   ]
  },
  {
   "cell_type": "code",
   "execution_count": 27,
   "metadata": {
    "collapsed": false
   },
   "outputs": [
    {
     "name": "stdout",
     "output_type": "stream",
     "text": [
      "Checking the Training on a Single Batch...\n",
      "Epoch  1, CIFAR-10 Batch 1:  Loss:     2.2503 Validation Accuracy: 0.184000\n",
      "Epoch  2, CIFAR-10 Batch 1:  Loss:     2.1015 Validation Accuracy: 0.310800\n",
      "Epoch  3, CIFAR-10 Batch 1:  Loss:     1.9138 Validation Accuracy: 0.356800\n",
      "Epoch  4, CIFAR-10 Batch 1:  Loss:     1.7087 Validation Accuracy: 0.407600\n",
      "Epoch  5, CIFAR-10 Batch 1:  Loss:     1.5022 Validation Accuracy: 0.411200\n",
      "Epoch  6, CIFAR-10 Batch 1:  Loss:     1.4006 Validation Accuracy: 0.435200\n",
      "Epoch  7, CIFAR-10 Batch 1:  Loss:     1.3345 Validation Accuracy: 0.461600\n",
      "Epoch  8, CIFAR-10 Batch 1:  Loss:     1.1925 Validation Accuracy: 0.479400\n",
      "Epoch  9, CIFAR-10 Batch 1:  Loss:     1.0807 Validation Accuracy: 0.474200\n",
      "Epoch 10, CIFAR-10 Batch 1:  Loss:     1.0213 Validation Accuracy: 0.473800\n",
      "Epoch 11, CIFAR-10 Batch 1:  Loss:     0.9638 Validation Accuracy: 0.483000\n",
      "Epoch 12, CIFAR-10 Batch 1:  Loss:     0.8574 Validation Accuracy: 0.490800\n",
      "Epoch 13, CIFAR-10 Batch 1:  Loss:     0.7974 Validation Accuracy: 0.496800\n",
      "Epoch 14, CIFAR-10 Batch 1:  Loss:     0.7708 Validation Accuracy: 0.508200\n",
      "Epoch 15, CIFAR-10 Batch 1:  Loss:     0.6600 Validation Accuracy: 0.528600\n",
      "Epoch 16, CIFAR-10 Batch 1:  Loss:     0.6605 Validation Accuracy: 0.522400\n",
      "Epoch 17, CIFAR-10 Batch 1:  Loss:     0.5808 Validation Accuracy: 0.528000\n",
      "Epoch 18, CIFAR-10 Batch 1:  Loss:     0.5319 Validation Accuracy: 0.535800\n",
      "Epoch 19, CIFAR-10 Batch 1:  Loss:     0.5103 Validation Accuracy: 0.541000\n",
      "Epoch 20, CIFAR-10 Batch 1:  Loss:     0.4658 Validation Accuracy: 0.537400\n",
      "Epoch 21, CIFAR-10 Batch 1:  Loss:     0.4630 Validation Accuracy: 0.546600\n",
      "Epoch 22, CIFAR-10 Batch 1:  Loss:     0.3953 Validation Accuracy: 0.544400\n",
      "Epoch 23, CIFAR-10 Batch 1:  Loss:     0.4207 Validation Accuracy: 0.533400\n",
      "Epoch 24, CIFAR-10 Batch 1:  Loss:     0.3410 Validation Accuracy: 0.548800\n",
      "Epoch 25, CIFAR-10 Batch 1:  Loss:     0.3086 Validation Accuracy: 0.545400\n",
      "Epoch 26, CIFAR-10 Batch 1:  Loss:     0.2761 Validation Accuracy: 0.556000\n",
      "Epoch 27, CIFAR-10 Batch 1:  Loss:     0.2521 Validation Accuracy: 0.546200\n",
      "Epoch 28, CIFAR-10 Batch 1:  Loss:     0.2223 Validation Accuracy: 0.555200\n",
      "Epoch 29, CIFAR-10 Batch 1:  Loss:     0.2176 Validation Accuracy: 0.544400\n",
      "Epoch 30, CIFAR-10 Batch 1:  Loss:     0.2000 Validation Accuracy: 0.536600\n",
      "Epoch 31, CIFAR-10 Batch 1:  Loss:     0.1654 Validation Accuracy: 0.530000\n",
      "Epoch 32, CIFAR-10 Batch 1:  Loss:     0.1531 Validation Accuracy: 0.545400\n",
      "Epoch 33, CIFAR-10 Batch 1:  Loss:     0.1505 Validation Accuracy: 0.540000\n",
      "Epoch 34, CIFAR-10 Batch 1:  Loss:     0.1633 Validation Accuracy: 0.535000\n",
      "Epoch 35, CIFAR-10 Batch 1:  Loss:     0.1582 Validation Accuracy: 0.541000\n",
      "Epoch 36, CIFAR-10 Batch 1:  Loss:     0.1280 Validation Accuracy: 0.535600\n",
      "Epoch 37, CIFAR-10 Batch 1:  Loss:     0.0895 Validation Accuracy: 0.544800\n",
      "Epoch 38, CIFAR-10 Batch 1:  Loss:     0.1371 Validation Accuracy: 0.536200\n",
      "Epoch 39, CIFAR-10 Batch 1:  Loss:     0.1035 Validation Accuracy: 0.545800\n",
      "Epoch 40, CIFAR-10 Batch 1:  Loss:     0.1374 Validation Accuracy: 0.532400\n",
      "Epoch 41, CIFAR-10 Batch 1:  Loss:     0.0704 Validation Accuracy: 0.550200\n",
      "Epoch 42, CIFAR-10 Batch 1:  Loss:     0.0597 Validation Accuracy: 0.542800\n",
      "Epoch 43, CIFAR-10 Batch 1:  Loss:     0.0669 Validation Accuracy: 0.544000\n",
      "Epoch 44, CIFAR-10 Batch 1:  Loss:     0.0739 Validation Accuracy: 0.543600\n",
      "Epoch 45, CIFAR-10 Batch 1:  Loss:     0.0613 Validation Accuracy: 0.550000\n",
      "Epoch 46, CIFAR-10 Batch 1:  Loss:     0.0410 Validation Accuracy: 0.554800\n",
      "Epoch 47, CIFAR-10 Batch 1:  Loss:     0.0424 Validation Accuracy: 0.553600\n",
      "Epoch 48, CIFAR-10 Batch 1:  Loss:     0.0461 Validation Accuracy: 0.551200\n",
      "Epoch 49, CIFAR-10 Batch 1:  Loss:     0.0479 Validation Accuracy: 0.541600\n",
      "Epoch 50, CIFAR-10 Batch 1:  Loss:     0.0366 Validation Accuracy: 0.555600\n"
     ]
    }
   ],
   "source": [
    "\"\"\"\n",
    "DON'T MODIFY ANYTHING IN THIS CELL\n",
    "\"\"\"\n",
    "print('Checking the Training on a Single Batch...')\n",
    "with tf.Session() as sess:\n",
    "    # Initializing the variables\n",
    "    sess.run(tf.global_variables_initializer())\n",
    "    \n",
    "    # Training cycle\n",
    "    for epoch in range(epochs):\n",
    "        batch_i = 1\n",
    "        for batch_features, batch_labels in helper.load_preprocess_training_batch(batch_i, batch_size):\n",
    "            train_neural_network(sess, optimizer, keep_probability, batch_features, batch_labels)\n",
    "        print('Epoch {:>2}, CIFAR-10 Batch {}:  '.format(epoch + 1, batch_i), end='')\n",
    "        print_stats(sess, batch_features, batch_labels, cost, accuracy)"
   ]
  },
  {
   "cell_type": "markdown",
   "metadata": {},
   "source": [
    "### Fully Train the Model\n",
    "Now that you got a good accuracy with a single CIFAR-10 batch, try it with all five batches."
   ]
  },
  {
   "cell_type": "code",
   "execution_count": 28,
   "metadata": {
    "collapsed": false
   },
   "outputs": [
    {
     "name": "stdout",
     "output_type": "stream",
     "text": [
      "Training...\n",
      "Epoch  1, CIFAR-10 Batch 1:  Loss:     2.1950 Validation Accuracy: 0.206200\n",
      "Epoch  1, CIFAR-10 Batch 2:  Loss:     1.9543 Validation Accuracy: 0.313200\n",
      "Epoch  1, CIFAR-10 Batch 3:  Loss:     1.7171 Validation Accuracy: 0.350000\n",
      "Epoch  1, CIFAR-10 Batch 4:  Loss:     1.6558 Validation Accuracy: 0.383200\n",
      "Epoch  1, CIFAR-10 Batch 5:  Loss:     1.6161 Validation Accuracy: 0.423400\n",
      "Epoch  2, CIFAR-10 Batch 1:  Loss:     1.7097 Validation Accuracy: 0.438600\n",
      "Epoch  2, CIFAR-10 Batch 2:  Loss:     1.7520 Validation Accuracy: 0.450800\n",
      "Epoch  2, CIFAR-10 Batch 3:  Loss:     1.3082 Validation Accuracy: 0.429600\n",
      "Epoch  2, CIFAR-10 Batch 4:  Loss:     1.4399 Validation Accuracy: 0.461800\n",
      "Epoch  2, CIFAR-10 Batch 5:  Loss:     1.4932 Validation Accuracy: 0.465400\n",
      "Epoch  3, CIFAR-10 Batch 1:  Loss:     1.4330 Validation Accuracy: 0.485800\n",
      "Epoch  3, CIFAR-10 Batch 2:  Loss:     1.4761 Validation Accuracy: 0.488600\n",
      "Epoch  3, CIFAR-10 Batch 3:  Loss:     1.0136 Validation Accuracy: 0.508600\n",
      "Epoch  3, CIFAR-10 Batch 4:  Loss:     1.2583 Validation Accuracy: 0.518800\n",
      "Epoch  3, CIFAR-10 Batch 5:  Loss:     1.2864 Validation Accuracy: 0.509000\n",
      "Epoch  4, CIFAR-10 Batch 1:  Loss:     1.1940 Validation Accuracy: 0.534600\n",
      "Epoch  4, CIFAR-10 Batch 2:  Loss:     1.2856 Validation Accuracy: 0.520800\n",
      "Epoch  4, CIFAR-10 Batch 3:  Loss:     0.9169 Validation Accuracy: 0.538000\n",
      "Epoch  4, CIFAR-10 Batch 4:  Loss:     1.1135 Validation Accuracy: 0.536600\n",
      "Epoch  4, CIFAR-10 Batch 5:  Loss:     1.1137 Validation Accuracy: 0.549000\n",
      "Epoch  5, CIFAR-10 Batch 1:  Loss:     1.0581 Validation Accuracy: 0.560400\n",
      "Epoch  5, CIFAR-10 Batch 2:  Loss:     1.1159 Validation Accuracy: 0.549800\n",
      "Epoch  5, CIFAR-10 Batch 3:  Loss:     0.8455 Validation Accuracy: 0.546600\n",
      "Epoch  5, CIFAR-10 Batch 4:  Loss:     0.9664 Validation Accuracy: 0.572600\n",
      "Epoch  5, CIFAR-10 Batch 5:  Loss:     0.9966 Validation Accuracy: 0.564000\n",
      "Epoch  6, CIFAR-10 Batch 1:  Loss:     0.9671 Validation Accuracy: 0.575400\n",
      "Epoch  6, CIFAR-10 Batch 2:  Loss:     0.9686 Validation Accuracy: 0.577000\n",
      "Epoch  6, CIFAR-10 Batch 3:  Loss:     0.7552 Validation Accuracy: 0.571800\n",
      "Epoch  6, CIFAR-10 Batch 4:  Loss:     0.9015 Validation Accuracy: 0.572000\n",
      "Epoch  6, CIFAR-10 Batch 5:  Loss:     0.8949 Validation Accuracy: 0.571600\n",
      "Epoch  7, CIFAR-10 Batch 1:  Loss:     0.8242 Validation Accuracy: 0.591000\n",
      "Epoch  7, CIFAR-10 Batch 2:  Loss:     0.9037 Validation Accuracy: 0.595000\n",
      "Epoch  7, CIFAR-10 Batch 3:  Loss:     0.7141 Validation Accuracy: 0.581800\n",
      "Epoch  7, CIFAR-10 Batch 4:  Loss:     0.8500 Validation Accuracy: 0.588400\n",
      "Epoch  7, CIFAR-10 Batch 5:  Loss:     0.7698 Validation Accuracy: 0.589000\n",
      "Epoch  8, CIFAR-10 Batch 1:  Loss:     0.7667 Validation Accuracy: 0.607600\n",
      "Epoch  8, CIFAR-10 Batch 2:  Loss:     0.7975 Validation Accuracy: 0.598600\n",
      "Epoch  8, CIFAR-10 Batch 3:  Loss:     0.6033 Validation Accuracy: 0.601800\n",
      "Epoch  8, CIFAR-10 Batch 4:  Loss:     0.7382 Validation Accuracy: 0.610400\n",
      "Epoch  8, CIFAR-10 Batch 5:  Loss:     0.6896 Validation Accuracy: 0.610400\n",
      "Epoch  9, CIFAR-10 Batch 1:  Loss:     0.7197 Validation Accuracy: 0.611800\n",
      "Epoch  9, CIFAR-10 Batch 2:  Loss:     0.7375 Validation Accuracy: 0.609600\n",
      "Epoch  9, CIFAR-10 Batch 3:  Loss:     0.6000 Validation Accuracy: 0.616600\n",
      "Epoch  9, CIFAR-10 Batch 4:  Loss:     0.7009 Validation Accuracy: 0.614400\n",
      "Epoch  9, CIFAR-10 Batch 5:  Loss:     0.5840 Validation Accuracy: 0.609200\n",
      "Epoch 10, CIFAR-10 Batch 1:  Loss:     0.5941 Validation Accuracy: 0.628200\n",
      "Epoch 10, CIFAR-10 Batch 2:  Loss:     0.6262 Validation Accuracy: 0.620400\n",
      "Epoch 10, CIFAR-10 Batch 3:  Loss:     0.4893 Validation Accuracy: 0.618000\n",
      "Epoch 10, CIFAR-10 Batch 4:  Loss:     0.6027 Validation Accuracy: 0.625200\n",
      "Epoch 10, CIFAR-10 Batch 5:  Loss:     0.5192 Validation Accuracy: 0.625200\n",
      "Epoch 11, CIFAR-10 Batch 1:  Loss:     0.5333 Validation Accuracy: 0.633600\n",
      "Epoch 11, CIFAR-10 Batch 2:  Loss:     0.5351 Validation Accuracy: 0.634800\n",
      "Epoch 11, CIFAR-10 Batch 3:  Loss:     0.4274 Validation Accuracy: 0.620600\n",
      "Epoch 11, CIFAR-10 Batch 4:  Loss:     0.5259 Validation Accuracy: 0.630200\n",
      "Epoch 11, CIFAR-10 Batch 5:  Loss:     0.4458 Validation Accuracy: 0.629400\n",
      "Epoch 12, CIFAR-10 Batch 1:  Loss:     0.5157 Validation Accuracy: 0.632200\n",
      "Epoch 12, CIFAR-10 Batch 2:  Loss:     0.5334 Validation Accuracy: 0.629800\n",
      "Epoch 12, CIFAR-10 Batch 3:  Loss:     0.4154 Validation Accuracy: 0.636400\n",
      "Epoch 12, CIFAR-10 Batch 4:  Loss:     0.4768 Validation Accuracy: 0.632200\n",
      "Epoch 12, CIFAR-10 Batch 5:  Loss:     0.4241 Validation Accuracy: 0.641200\n",
      "Epoch 13, CIFAR-10 Batch 1:  Loss:     0.4701 Validation Accuracy: 0.639600\n",
      "Epoch 13, CIFAR-10 Batch 2:  Loss:     0.4548 Validation Accuracy: 0.647000\n",
      "Epoch 13, CIFAR-10 Batch 3:  Loss:     0.4233 Validation Accuracy: 0.622600\n",
      "Epoch 13, CIFAR-10 Batch 4:  Loss:     0.4131 Validation Accuracy: 0.631600\n",
      "Epoch 13, CIFAR-10 Batch 5:  Loss:     0.3920 Validation Accuracy: 0.644200\n",
      "Epoch 14, CIFAR-10 Batch 1:  Loss:     0.3911 Validation Accuracy: 0.652400\n",
      "Epoch 14, CIFAR-10 Batch 2:  Loss:     0.3963 Validation Accuracy: 0.656000\n",
      "Epoch 14, CIFAR-10 Batch 3:  Loss:     0.3549 Validation Accuracy: 0.638000\n",
      "Epoch 14, CIFAR-10 Batch 4:  Loss:     0.3921 Validation Accuracy: 0.634000\n",
      "Epoch 14, CIFAR-10 Batch 5:  Loss:     0.3573 Validation Accuracy: 0.650400\n",
      "Epoch 15, CIFAR-10 Batch 1:  Loss:     0.3666 Validation Accuracy: 0.659000\n",
      "Epoch 15, CIFAR-10 Batch 2:  Loss:     0.3881 Validation Accuracy: 0.654200\n",
      "Epoch 15, CIFAR-10 Batch 3:  Loss:     0.3040 Validation Accuracy: 0.648400\n",
      "Epoch 15, CIFAR-10 Batch 4:  Loss:     0.3775 Validation Accuracy: 0.638200\n",
      "Epoch 15, CIFAR-10 Batch 5:  Loss:     0.3402 Validation Accuracy: 0.660400\n",
      "Epoch 16, CIFAR-10 Batch 1:  Loss:     0.3755 Validation Accuracy: 0.652200\n",
      "Epoch 16, CIFAR-10 Batch 2:  Loss:     0.3296 Validation Accuracy: 0.663000\n",
      "Epoch 16, CIFAR-10 Batch 3:  Loss:     0.2874 Validation Accuracy: 0.648800\n",
      "Epoch 16, CIFAR-10 Batch 4:  Loss:     0.3040 Validation Accuracy: 0.647800\n",
      "Epoch 16, CIFAR-10 Batch 5:  Loss:     0.3159 Validation Accuracy: 0.663800\n",
      "Epoch 17, CIFAR-10 Batch 1:  Loss:     0.3641 Validation Accuracy: 0.652600\n",
      "Epoch 17, CIFAR-10 Batch 2:  Loss:     0.3188 Validation Accuracy: 0.664600\n",
      "Epoch 17, CIFAR-10 Batch 3:  Loss:     0.2626 Validation Accuracy: 0.655600\n",
      "Epoch 17, CIFAR-10 Batch 4:  Loss:     0.2887 Validation Accuracy: 0.656400\n",
      "Epoch 17, CIFAR-10 Batch 5:  Loss:     0.2772 Validation Accuracy: 0.665800\n",
      "Epoch 18, CIFAR-10 Batch 1:  Loss:     0.3310 Validation Accuracy: 0.669400\n",
      "Epoch 18, CIFAR-10 Batch 2:  Loss:     0.3279 Validation Accuracy: 0.661800\n",
      "Epoch 18, CIFAR-10 Batch 3:  Loss:     0.2666 Validation Accuracy: 0.654600\n",
      "Epoch 18, CIFAR-10 Batch 4:  Loss:     0.2512 Validation Accuracy: 0.658200\n",
      "Epoch 18, CIFAR-10 Batch 5:  Loss:     0.2699 Validation Accuracy: 0.668800\n",
      "Epoch 19, CIFAR-10 Batch 1:  Loss:     0.2978 Validation Accuracy: 0.673600\n",
      "Epoch 19, CIFAR-10 Batch 2:  Loss:     0.2794 Validation Accuracy: 0.665000\n",
      "Epoch 19, CIFAR-10 Batch 3:  Loss:     0.2370 Validation Accuracy: 0.657400\n",
      "Epoch 19, CIFAR-10 Batch 4:  Loss:     0.2344 Validation Accuracy: 0.664000\n",
      "Epoch 19, CIFAR-10 Batch 5:  Loss:     0.2327 Validation Accuracy: 0.671000\n",
      "Epoch 20, CIFAR-10 Batch 1:  Loss:     0.3053 Validation Accuracy: 0.660200\n",
      "Epoch 20, CIFAR-10 Batch 2:  Loss:     0.2510 Validation Accuracy: 0.655000\n",
      "Epoch 20, CIFAR-10 Batch 3:  Loss:     0.2235 Validation Accuracy: 0.655200\n",
      "Epoch 20, CIFAR-10 Batch 4:  Loss:     0.2308 Validation Accuracy: 0.668600\n",
      "Epoch 20, CIFAR-10 Batch 5:  Loss:     0.2207 Validation Accuracy: 0.671800\n",
      "Epoch 21, CIFAR-10 Batch 1:  Loss:     0.2430 Validation Accuracy: 0.668000\n",
      "Epoch 21, CIFAR-10 Batch 2:  Loss:     0.2030 Validation Accuracy: 0.674600\n",
      "Epoch 21, CIFAR-10 Batch 3:  Loss:     0.2054 Validation Accuracy: 0.661600\n",
      "Epoch 21, CIFAR-10 Batch 4:  Loss:     0.1883 Validation Accuracy: 0.659200\n",
      "Epoch 21, CIFAR-10 Batch 5:  Loss:     0.2067 Validation Accuracy: 0.681200\n",
      "Epoch 22, CIFAR-10 Batch 1:  Loss:     0.2689 Validation Accuracy: 0.653400\n",
      "Epoch 22, CIFAR-10 Batch 2:  Loss:     0.2065 Validation Accuracy: 0.669600\n",
      "Epoch 22, CIFAR-10 Batch 3:  Loss:     0.1637 Validation Accuracy: 0.652000\n",
      "Epoch 22, CIFAR-10 Batch 4:  Loss:     0.1804 Validation Accuracy: 0.658400\n",
      "Epoch 22, CIFAR-10 Batch 5:  Loss:     0.1678 Validation Accuracy: 0.683400\n",
      "Epoch 23, CIFAR-10 Batch 1:  Loss:     0.2271 Validation Accuracy: 0.675800\n",
      "Epoch 23, CIFAR-10 Batch 2:  Loss:     0.1865 Validation Accuracy: 0.677000\n",
      "Epoch 23, CIFAR-10 Batch 3:  Loss:     0.1787 Validation Accuracy: 0.660800\n",
      "Epoch 23, CIFAR-10 Batch 4:  Loss:     0.1673 Validation Accuracy: 0.664400\n",
      "Epoch 23, CIFAR-10 Batch 5:  Loss:     0.1934 Validation Accuracy: 0.675000\n",
      "Epoch 24, CIFAR-10 Batch 1:  Loss:     0.2358 Validation Accuracy: 0.655600\n",
      "Epoch 24, CIFAR-10 Batch 2:  Loss:     0.1788 Validation Accuracy: 0.675800\n",
      "Epoch 24, CIFAR-10 Batch 3:  Loss:     0.1615 Validation Accuracy: 0.662600\n",
      "Epoch 24, CIFAR-10 Batch 4:  Loss:     0.1513 Validation Accuracy: 0.674000\n",
      "Epoch 24, CIFAR-10 Batch 5:  Loss:     0.1654 Validation Accuracy: 0.680800\n",
      "Epoch 25, CIFAR-10 Batch 1:  Loss:     0.1894 Validation Accuracy: 0.663000\n",
      "Epoch 25, CIFAR-10 Batch 2:  Loss:     0.1834 Validation Accuracy: 0.671400\n",
      "Epoch 25, CIFAR-10 Batch 3:  Loss:     0.1268 Validation Accuracy: 0.672600\n",
      "Epoch 25, CIFAR-10 Batch 4:  Loss:     0.1503 Validation Accuracy: 0.657800\n",
      "Epoch 25, CIFAR-10 Batch 5:  Loss:     0.1508 Validation Accuracy: 0.680000\n",
      "Epoch 26, CIFAR-10 Batch 1:  Loss:     0.2168 Validation Accuracy: 0.660200\n",
      "Epoch 26, CIFAR-10 Batch 2:  Loss:     0.1570 Validation Accuracy: 0.674800\n",
      "Epoch 26, CIFAR-10 Batch 3:  Loss:     0.1192 Validation Accuracy: 0.667000\n",
      "Epoch 26, CIFAR-10 Batch 4:  Loss:     0.1328 Validation Accuracy: 0.656600\n",
      "Epoch 26, CIFAR-10 Batch 5:  Loss:     0.1512 Validation Accuracy: 0.671000\n",
      "Epoch 27, CIFAR-10 Batch 1:  Loss:     0.1834 Validation Accuracy: 0.661400\n",
      "Epoch 27, CIFAR-10 Batch 2:  Loss:     0.1369 Validation Accuracy: 0.674600\n",
      "Epoch 27, CIFAR-10 Batch 3:  Loss:     0.1266 Validation Accuracy: 0.655600\n",
      "Epoch 27, CIFAR-10 Batch 4:  Loss:     0.1550 Validation Accuracy: 0.666000\n",
      "Epoch 27, CIFAR-10 Batch 5:  Loss:     0.1385 Validation Accuracy: 0.672800\n",
      "Epoch 28, CIFAR-10 Batch 1:  Loss:     0.1656 Validation Accuracy: 0.673800\n",
      "Epoch 28, CIFAR-10 Batch 2:  Loss:     0.1369 Validation Accuracy: 0.676800\n",
      "Epoch 28, CIFAR-10 Batch 3:  Loss:     0.1172 Validation Accuracy: 0.668400\n",
      "Epoch 28, CIFAR-10 Batch 4:  Loss:     0.1363 Validation Accuracy: 0.668200\n",
      "Epoch 28, CIFAR-10 Batch 5:  Loss:     0.1120 Validation Accuracy: 0.672600\n",
      "Epoch 29, CIFAR-10 Batch 1:  Loss:     0.1700 Validation Accuracy: 0.674200\n",
      "Epoch 29, CIFAR-10 Batch 2:  Loss:     0.1327 Validation Accuracy: 0.674200\n",
      "Epoch 29, CIFAR-10 Batch 3:  Loss:     0.1035 Validation Accuracy: 0.667400\n",
      "Epoch 29, CIFAR-10 Batch 4:  Loss:     0.1529 Validation Accuracy: 0.668000\n",
      "Epoch 29, CIFAR-10 Batch 5:  Loss:     0.1256 Validation Accuracy: 0.674200\n",
      "Epoch 30, CIFAR-10 Batch 1:  Loss:     0.1424 Validation Accuracy: 0.676800\n",
      "Epoch 30, CIFAR-10 Batch 2:  Loss:     0.1245 Validation Accuracy: 0.670400\n",
      "Epoch 30, CIFAR-10 Batch 3:  Loss:     0.1022 Validation Accuracy: 0.655400\n",
      "Epoch 30, CIFAR-10 Batch 4:  Loss:     0.0953 Validation Accuracy: 0.678200\n",
      "Epoch 30, CIFAR-10 Batch 5:  Loss:     0.0970 Validation Accuracy: 0.681000\n",
      "Epoch 31, CIFAR-10 Batch 1:  Loss:     0.1527 Validation Accuracy: 0.664800\n",
      "Epoch 31, CIFAR-10 Batch 2:  Loss:     0.1390 Validation Accuracy: 0.662600\n",
      "Epoch 31, CIFAR-10 Batch 3:  Loss:     0.0943 Validation Accuracy: 0.672400\n",
      "Epoch 31, CIFAR-10 Batch 4:  Loss:     0.1160 Validation Accuracy: 0.667000\n",
      "Epoch 31, CIFAR-10 Batch 5:  Loss:     0.1060 Validation Accuracy: 0.672200\n",
      "Epoch 32, CIFAR-10 Batch 1:  Loss:     0.1604 Validation Accuracy: 0.663800\n",
      "Epoch 32, CIFAR-10 Batch 2:  Loss:     0.1083 Validation Accuracy: 0.670000\n",
      "Epoch 32, CIFAR-10 Batch 3:  Loss:     0.0918 Validation Accuracy: 0.663800\n",
      "Epoch 32, CIFAR-10 Batch 4:  Loss:     0.1094 Validation Accuracy: 0.684800\n",
      "Epoch 32, CIFAR-10 Batch 5:  Loss:     0.0925 Validation Accuracy: 0.679200\n",
      "Epoch 33, CIFAR-10 Batch 1:  Loss:     0.1392 Validation Accuracy: 0.680000\n",
      "Epoch 33, CIFAR-10 Batch 2:  Loss:     0.1385 Validation Accuracy: 0.660800\n",
      "Epoch 33, CIFAR-10 Batch 3:  Loss:     0.0910 Validation Accuracy: 0.672200\n",
      "Epoch 33, CIFAR-10 Batch 4:  Loss:     0.0945 Validation Accuracy: 0.681200\n",
      "Epoch 33, CIFAR-10 Batch 5:  Loss:     0.0958 Validation Accuracy: 0.658000\n",
      "Epoch 34, CIFAR-10 Batch 1:  Loss:     0.1285 Validation Accuracy: 0.671000\n",
      "Epoch 34, CIFAR-10 Batch 2:  Loss:     0.1089 Validation Accuracy: 0.668000\n",
      "Epoch 34, CIFAR-10 Batch 3:  Loss:     0.0881 Validation Accuracy: 0.667000\n",
      "Epoch 34, CIFAR-10 Batch 4:  Loss:     0.0985 Validation Accuracy: 0.686200\n",
      "Epoch 34, CIFAR-10 Batch 5:  Loss:     0.0808 Validation Accuracy: 0.674600\n",
      "Epoch 35, CIFAR-10 Batch 1:  Loss:     0.1388 Validation Accuracy: 0.657800\n",
      "Epoch 35, CIFAR-10 Batch 2:  Loss:     0.0850 Validation Accuracy: 0.666800\n",
      "Epoch 35, CIFAR-10 Batch 3:  Loss:     0.0918 Validation Accuracy: 0.679200\n",
      "Epoch 35, CIFAR-10 Batch 4:  Loss:     0.0692 Validation Accuracy: 0.689000\n",
      "Epoch 35, CIFAR-10 Batch 5:  Loss:     0.0915 Validation Accuracy: 0.670000\n",
      "Epoch 36, CIFAR-10 Batch 1:  Loss:     0.1304 Validation Accuracy: 0.672200\n",
      "Epoch 36, CIFAR-10 Batch 2:  Loss:     0.0935 Validation Accuracy: 0.671400\n",
      "Epoch 36, CIFAR-10 Batch 3:  Loss:     0.0883 Validation Accuracy: 0.671200\n",
      "Epoch 36, CIFAR-10 Batch 4:  Loss:     0.0759 Validation Accuracy: 0.681400\n",
      "Epoch 36, CIFAR-10 Batch 5:  Loss:     0.0775 Validation Accuracy: 0.657400\n",
      "Epoch 37, CIFAR-10 Batch 1:  Loss:     0.1030 Validation Accuracy: 0.667600\n",
      "Epoch 37, CIFAR-10 Batch 2:  Loss:     0.1011 Validation Accuracy: 0.665000\n",
      "Epoch 37, CIFAR-10 Batch 3:  Loss:     0.0687 Validation Accuracy: 0.681800\n",
      "Epoch 37, CIFAR-10 Batch 4:  Loss:     0.0819 Validation Accuracy: 0.673600\n",
      "Epoch 37, CIFAR-10 Batch 5:  Loss:     0.0605 Validation Accuracy: 0.668000\n",
      "Epoch 38, CIFAR-10 Batch 1:  Loss:     0.0950 Validation Accuracy: 0.669600\n",
      "Epoch 38, CIFAR-10 Batch 2:  Loss:     0.1112 Validation Accuracy: 0.677000\n",
      "Epoch 38, CIFAR-10 Batch 3:  Loss:     0.0464 Validation Accuracy: 0.675600\n",
      "Epoch 38, CIFAR-10 Batch 4:  Loss:     0.0778 Validation Accuracy: 0.684200\n",
      "Epoch 38, CIFAR-10 Batch 5:  Loss:     0.0796 Validation Accuracy: 0.652400\n",
      "Epoch 39, CIFAR-10 Batch 1:  Loss:     0.1081 Validation Accuracy: 0.668200\n",
      "Epoch 39, CIFAR-10 Batch 2:  Loss:     0.1167 Validation Accuracy: 0.657200\n",
      "Epoch 39, CIFAR-10 Batch 3:  Loss:     0.0535 Validation Accuracy: 0.679400\n",
      "Epoch 39, CIFAR-10 Batch 4:  Loss:     0.0553 Validation Accuracy: 0.684200\n",
      "Epoch 39, CIFAR-10 Batch 5:  Loss:     0.0782 Validation Accuracy: 0.649000\n",
      "Epoch 40, CIFAR-10 Batch 1:  Loss:     0.0986 Validation Accuracy: 0.684400\n",
      "Epoch 40, CIFAR-10 Batch 2:  Loss:     0.0833 Validation Accuracy: 0.673600\n",
      "Epoch 40, CIFAR-10 Batch 3:  Loss:     0.0503 Validation Accuracy: 0.665800\n",
      "Epoch 40, CIFAR-10 Batch 4:  Loss:     0.0873 Validation Accuracy: 0.672800\n",
      "Epoch 40, CIFAR-10 Batch 5:  Loss:     0.0810 Validation Accuracy: 0.661800\n",
      "Epoch 41, CIFAR-10 Batch 1:  Loss:     0.0870 Validation Accuracy: 0.673400\n",
      "Epoch 41, CIFAR-10 Batch 2:  Loss:     0.0728 Validation Accuracy: 0.670400\n",
      "Epoch 41, CIFAR-10 Batch 3:  Loss:     0.0528 Validation Accuracy: 0.683600\n",
      "Epoch 41, CIFAR-10 Batch 4:  Loss:     0.0576 Validation Accuracy: 0.674400\n",
      "Epoch 41, CIFAR-10 Batch 5:  Loss:     0.0672 Validation Accuracy: 0.666800\n",
      "Epoch 42, CIFAR-10 Batch 1:  Loss:     0.0680 Validation Accuracy: 0.682000\n",
      "Epoch 42, CIFAR-10 Batch 2:  Loss:     0.0802 Validation Accuracy: 0.666000\n",
      "Epoch 42, CIFAR-10 Batch 3:  Loss:     0.0489 Validation Accuracy: 0.680400\n",
      "Epoch 42, CIFAR-10 Batch 4:  Loss:     0.0561 Validation Accuracy: 0.679400\n",
      "Epoch 42, CIFAR-10 Batch 5:  Loss:     0.0572 Validation Accuracy: 0.664800\n",
      "Epoch 43, CIFAR-10 Batch 1:  Loss:     0.0568 Validation Accuracy: 0.677000\n",
      "Epoch 43, CIFAR-10 Batch 2:  Loss:     0.0727 Validation Accuracy: 0.681000\n",
      "Epoch 43, CIFAR-10 Batch 3:  Loss:     0.0379 Validation Accuracy: 0.684400\n",
      "Epoch 43, CIFAR-10 Batch 4:  Loss:     0.0491 Validation Accuracy: 0.674400\n",
      "Epoch 43, CIFAR-10 Batch 5:  Loss:     0.0695 Validation Accuracy: 0.662000\n",
      "Epoch 44, CIFAR-10 Batch 1:  Loss:     0.0675 Validation Accuracy: 0.675200\n",
      "Epoch 44, CIFAR-10 Batch 2:  Loss:     0.0638 Validation Accuracy: 0.670800\n",
      "Epoch 44, CIFAR-10 Batch 3:  Loss:     0.0506 Validation Accuracy: 0.685000\n",
      "Epoch 44, CIFAR-10 Batch 4:  Loss:     0.0562 Validation Accuracy: 0.676000\n",
      "Epoch 44, CIFAR-10 Batch 5:  Loss:     0.0581 Validation Accuracy: 0.654800\n",
      "Epoch 45, CIFAR-10 Batch 1:  Loss:     0.0698 Validation Accuracy: 0.678000\n",
      "Epoch 45, CIFAR-10 Batch 2:  Loss:     0.0532 Validation Accuracy: 0.680400\n",
      "Epoch 45, CIFAR-10 Batch 3:  Loss:     0.0617 Validation Accuracy: 0.686400\n",
      "Epoch 45, CIFAR-10 Batch 4:  Loss:     0.0567 Validation Accuracy: 0.668800\n",
      "Epoch 45, CIFAR-10 Batch 5:  Loss:     0.0543 Validation Accuracy: 0.660800\n",
      "Epoch 46, CIFAR-10 Batch 1:  Loss:     0.0616 Validation Accuracy: 0.677000\n",
      "Epoch 46, CIFAR-10 Batch 2:  Loss:     0.0518 Validation Accuracy: 0.677200\n",
      "Epoch 46, CIFAR-10 Batch 3:  Loss:     0.0455 Validation Accuracy: 0.684000\n",
      "Epoch 46, CIFAR-10 Batch 4:  Loss:     0.0625 Validation Accuracy: 0.658200\n",
      "Epoch 46, CIFAR-10 Batch 5:  Loss:     0.0642 Validation Accuracy: 0.680200\n",
      "Epoch 47, CIFAR-10 Batch 1:  Loss:     0.0535 Validation Accuracy: 0.669200\n",
      "Epoch 47, CIFAR-10 Batch 2:  Loss:     0.0501 Validation Accuracy: 0.675200\n",
      "Epoch 47, CIFAR-10 Batch 3:  Loss:     0.0506 Validation Accuracy: 0.675400\n",
      "Epoch 47, CIFAR-10 Batch 4:  Loss:     0.0555 Validation Accuracy: 0.670000\n",
      "Epoch 47, CIFAR-10 Batch 5:  Loss:     0.0530 Validation Accuracy: 0.673200\n",
      "Epoch 48, CIFAR-10 Batch 1:  Loss:     0.0699 Validation Accuracy: 0.665600\n",
      "Epoch 48, CIFAR-10 Batch 2:  Loss:     0.0482 Validation Accuracy: 0.682600\n",
      "Epoch 48, CIFAR-10 Batch 3:  Loss:     0.0412 Validation Accuracy: 0.673800\n",
      "Epoch 48, CIFAR-10 Batch 4:  Loss:     0.0679 Validation Accuracy: 0.642000\n",
      "Epoch 48, CIFAR-10 Batch 5:  Loss:     0.0488 Validation Accuracy: 0.683000\n",
      "Epoch 49, CIFAR-10 Batch 1:  Loss:     0.0621 Validation Accuracy: 0.666200\n",
      "Epoch 49, CIFAR-10 Batch 2:  Loss:     0.0583 Validation Accuracy: 0.676600\n",
      "Epoch 49, CIFAR-10 Batch 3:  Loss:     0.0470 Validation Accuracy: 0.669400\n",
      "Epoch 49, CIFAR-10 Batch 4:  Loss:     0.0651 Validation Accuracy: 0.641200\n",
      "Epoch 49, CIFAR-10 Batch 5:  Loss:     0.0573 Validation Accuracy: 0.689600\n",
      "Epoch 50, CIFAR-10 Batch 1:  Loss:     0.0656 Validation Accuracy: 0.671000\n",
      "Epoch 50, CIFAR-10 Batch 2:  Loss:     0.0578 Validation Accuracy: 0.668400\n",
      "Epoch 50, CIFAR-10 Batch 3:  Loss:     0.0426 Validation Accuracy: 0.679000\n",
      "Epoch 50, CIFAR-10 Batch 4:  Loss:     0.0556 Validation Accuracy: 0.648800\n",
      "Epoch 50, CIFAR-10 Batch 5:  Loss:     0.0461 Validation Accuracy: 0.679400\n"
     ]
    }
   ],
   "source": [
    "\"\"\"\n",
    "DON'T MODIFY ANYTHING IN THIS CELL\n",
    "\"\"\"\n",
    "save_model_path = './image_classification'\n",
    "\n",
    "print('Training...')\n",
    "with tf.Session() as sess:\n",
    "    # Initializing the variables\n",
    "    sess.run(tf.global_variables_initializer())\n",
    "    \n",
    "    # Training cycle\n",
    "    for epoch in range(epochs):\n",
    "        # Loop over all batches\n",
    "        n_batches = 5\n",
    "        for batch_i in range(1, n_batches + 1):\n",
    "            for batch_features, batch_labels in helper.load_preprocess_training_batch(batch_i, batch_size):\n",
    "                train_neural_network(sess, optimizer, keep_probability, batch_features, batch_labels)\n",
    "            print('Epoch {:>2}, CIFAR-10 Batch {}:  '.format(epoch + 1, batch_i), end='')\n",
    "            print_stats(sess, batch_features, batch_labels, cost, accuracy)\n",
    "            \n",
    "    # Save Model\n",
    "    saver = tf.train.Saver()\n",
    "    save_path = saver.save(sess, save_model_path)"
   ]
  },
  {
   "cell_type": "markdown",
   "metadata": {},
   "source": [
    "# Checkpoint\n",
    "The model has been saved to disk.\n",
    "## Test Model\n",
    "Test your model against the test dataset.  This will be your final accuracy. You should have an accuracy greater than 50%. If you don't, keep tweaking the model architecture and parameters."
   ]
  },
  {
   "cell_type": "code",
   "execution_count": 29,
   "metadata": {
    "collapsed": false
   },
   "outputs": [
    {
     "name": "stdout",
     "output_type": "stream",
     "text": [
      "Testing Accuracy: 0.6802734375\n",
      "\n"
     ]
    },
    {
     "data": {
      "image/png": "[encoded data removed]",
      "text/plain": [
       "<matplotlib.figure.Figure at 0x17f199cc3c8>"
      ]
     },
     "metadata": {
      "image/png": {
       "height": 319,
       "width": 355
      }
     },
     "output_type": "display_data"
    }
   ],
   "source": [
    "\"\"\"\n",
    "DON'T MODIFY ANYTHING IN THIS CELL\n",
    "\"\"\"\n",
    "%matplotlib inline\n",
    "%config InlineBackend.figure_format = 'retina'\n",
    "\n",
    "import tensorflow as tf\n",
    "import pickle\n",
    "import helper\n",
    "import random\n",
    "\n",
    "# Set batch size if not already set\n",
    "try:\n",
    "    if batch_size:\n",
    "        pass\n",
    "except NameError:\n",
    "    batch_size = 64\n",
    "\n",
    "save_model_path = './image_classification'\n",
    "n_samples = 4\n",
    "top_n_predictions = 3\n",
    "\n",
    "def test_model():\n",
    "    \"\"\"\n",
    "    Test the saved model against the test dataset\n",
    "    \"\"\"\n",
    "\n",
    "    test_features, test_labels = pickle.load(open('preprocess_training.p', mode='rb'))\n",
    "    loaded_graph = tf.Graph()\n",
    "\n",
    "    with tf.Session(graph=loaded_graph) as sess:\n",
    "        # Load model\n",
    "        loader = tf.train.import_meta_graph(save_model_path + '.meta')\n",
    "        loader.restore(sess, save_model_path)\n",
    "\n",
    "        # Get Tensors from loaded model\n",
    "        loaded_x = loaded_graph.get_tensor_by_name('x:0')\n",
    "        loaded_y = loaded_graph.get_tensor_by_name('y:0')\n",
    "        loaded_keep_prob = loaded_graph.get_tensor_by_name('keep_prob:0')\n",
    "        loaded_logits = loaded_graph.get_tensor_by_name('logits:0')\n",
    "        loaded_acc = loaded_graph.get_tensor_by_name('accuracy:0')\n",
    "        \n",
    "        # Get accuracy in batches for memory limitations\n",
    "        test_batch_acc_total = 0\n",
    "        test_batch_count = 0\n",
    "        \n",
    "        for train_feature_batch, train_label_batch in helper.batch_features_labels(test_features, test_labels, batch_size):\n",
    "            test_batch_acc_total += sess.run(\n",
    "                loaded_acc,\n",
    "                feed_dict={loaded_x: train_feature_batch, loaded_y: train_label_batch, loaded_keep_prob: 1.0})\n",
    "            test_batch_count += 1\n",
    "\n",
    "        print('Testing Accuracy: {}\\n'.format(test_batch_acc_total/test_batch_count))\n",
    "\n",
    "        # Print Random Samples\n",
    "        random_test_features, random_test_labels = tuple(zip(*random.sample(list(zip(test_features, test_labels)), n_samples)))\n",
    "        random_test_predictions = sess.run(\n",
    "            tf.nn.top_k(tf.nn.softmax(loaded_logits), top_n_predictions),\n",
    "            feed_dict={loaded_x: random_test_features, loaded_y: random_test_labels, loaded_keep_prob: 1.0})\n",
    "        helper.display_image_predictions(random_test_features, random_test_labels, random_test_predictions)\n",
    "\n",
    "\n",
    "test_model()"
   ]
  },
  {
   "cell_type": "markdown",
   "metadata": {},
   "source": [
    "## Why 50-70% Accuracy?\n",
    "You might be wondering why you can't get an accuracy any higher. First things first, 50% isn't bad for a simple CNN.  Pure guessing would get you 10% accuracy. However, you might notice people are getting scores [well above 70%](http://rodrigob.github.io/are_we_there_yet/build/classification_datasets_results.html#43494641522d3130).  That's because we haven't taught you all there is to know about neural networks. We still need to cover a few more techniques.\n",
    "## Submitting This Project\n",
    "When submitting this project, make sure to run all the cells before saving the notebook.  Save the notebook file as \"dlnd_image_classification.ipynb\" and save it as a HTML file under \"File\" -> \"Download as\".  Include the \"helper.py\" and \"problem_unittests.py\" files in your submission."
   ]
  }
 ],
 "metadata": {
  "kernelspec": {
   "display_name": "Python [default]",
   "language": "python",
   "name": "python3"
  },
  "language_info": {
   "codemirror_mode": {
    "name": "ipython",
    "version": 3
   },
   "file_extension": ".py",
   "mimetype": "text/x-python",
   "name": "python",
   "nbconvert_exporter": "python",
   "pygments_lexer": "ipython3",
   "version": "3.5.2"
  }
 },
 "nbformat": 4,
 "nbformat_minor": 0
}
